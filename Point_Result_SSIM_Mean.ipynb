{
  "nbformat": 4,
  "nbformat_minor": 0,
  "metadata": {
    "colab": {
      "provenance": [],
      "collapsed_sections": [
        "PQ5IGC9h0UiP",
        "nfXcDzf79Hha",
        "Oo1OXKnzDyIy",
        "nLU8K1g3rpeU",
        "_8YrpbBWrw_D",
        "35EOKdvcg6X_",
        "Lnm7tkhZbgik",
        "cLMSXSuUb4GO",
        "xFI2zQUdp0N6",
        "euuSyHIiqC4T"
      ]
    },
    "kernelspec": {
      "name": "python3",
      "display_name": "Python 3"
    },
    "language_info": {
      "name": "python"
    }
  },
  "cells": [
    {
      "cell_type": "code",
      "execution_count": 2,
      "metadata": {
        "id": "yprxXkIsgI2q"
      },
      "outputs": [],
      "source": [
        "import numpy as np\n",
        "import os\n",
        "import matplotlib.pyplot as plt\n",
        "import math\n",
        "from skimage import data,img_as_ubyte\n",
        "from skimage.util import random_noise\n",
        "import copy\n",
        "from numpy import linalg as LA\n",
        "from skimage.metrics import peak_signal_noise_ratio\n",
        "from sklearn.preprocessing import normalize\n",
        "from scipy import ndimage\n",
        "from numpy import asarray\n",
        "from scipy.spatial import distance\n",
        "import random\n",
        "from math import log10, sqrt\n",
        "from scipy.sparse import csr_matrix\n",
        "from scipy import sparse\n",
        "import cv2\n",
        "from scipy.sparse import identity\n",
        "import sys\n",
        "from scipy.optimize import minimize"
      ]
    },
    {
      "cell_type": "markdown",
      "source": [
        "#PSNR and RMSE for assessment of image"
      ],
      "metadata": {
        "id": "9p484Zl3hcBi"
      }
    },
    {
      "cell_type": "code",
      "source": [
        "def RMSE(original_image, smoothed_image):\n",
        "  #It meaures the similiarity between to images\n",
        "  #Input: Two images (image1 and image 2)\n",
        "  #Output: A number which is used as the metrics of simiralrity of two images\n",
        "  rmse = np.sqrt(((original_image - smoothed_image) ** 2).mean())\n",
        "  return rmse"
      ],
      "metadata": {
        "id": "1WCh2x1PhZVm"
      },
      "execution_count": 3,
      "outputs": []
    },
    {
      "cell_type": "code",
      "source": [
        "def PSNR(image1, image2):\n",
        "    #It meaures the similiarity between to images\n",
        "    #Input: Two images (image1 and image 2)\n",
        "    #Output: A number which is used as the metrics of simiralrity of two images\n",
        "    mse = np.mean((image1 - image2)**2)\n",
        "    if mse == 0:\n",
        "        return float('inf')\n",
        "    psnr = 20 * math.log10(1 / np.sqrt(mse))\n",
        "    return psnr"
      ],
      "metadata": {
        "id": "raTzTQiTkZhM"
      },
      "execution_count": 4,
      "outputs": []
    },
    {
      "cell_type": "markdown",
      "source": [
        "#Downsampling matrix"
      ],
      "metadata": {
        "id": "OvnBzS7NkgQO"
      }
    },
    {
      "cell_type": "code",
      "source": [
        "def matrix_donsampling(image,z):\n",
        "   #It compute downsampling followed by local avarage matrix\n",
        "   #Input: Grayscale image A, and downsampling factor\n",
        "   #Output: transformation matric for downsampling by factor z\n",
        "  [Ah,Aw]=image.shape\n",
        "  #print('size image is Ah=%.f, Aw=%.f'%(Ah,Aw))\n",
        "  A=csr_matrix((Ah-z+1,Aw)).toarray()\n",
        "  #print(A)\n",
        "  #print('Size Matrix A:')\n",
        "  #print(A.shape)\n",
        "  for i in range(Ah-z+1):\n",
        "    for j in range(i,i+z):\n",
        "        A[i][j]=1\n",
        "  A[-1][-1]=1\n",
        "  #print(A)\n",
        "  B=np.divide(sparse.kron(A,A),z**2)\n",
        "  #print('Size Matrix B:')\n",
        "  #print(B.shape)\n",
        "  #print(B)\n",
        "  I1=sparse.eye(Ah,Ah-z+1).toarray()\n",
        "  #print('Size Matrix I1:')\n",
        "  #print(I1.shape)\n",
        "  #print(I1)\n",
        "  Q=I1[0:Ah-z+2:z,:]\n",
        "  #print('Size Matrix Q:')\n",
        "  #print(Q.shape)\n",
        "  #print(Q)\n",
        "  D=sparse.kron(Q,Q)\n",
        "  #print('Size Matrix D:')\n",
        "  #print(D.shape)\n",
        "  #print(D)\n",
        "  H=np.multiply(D,B)\n",
        "  #print('Size Matrix H:')\n",
        "  #print(H.shape)\n",
        "  #print(H)\n",
        "  return H"
      ],
      "metadata": {
        "id": "gU7-t3SqkdML"
      },
      "execution_count": 5,
      "outputs": []
    },
    {
      "cell_type": "markdown",
      "source": [
        "#Drivatives of image"
      ],
      "metadata": {
        "id": "x_DLetUgyp10"
      }
    },
    {
      "cell_type": "code",
      "source": [
        "def forwarddifference(A):\n",
        "    #It compute forward difference matrix of an image\n",
        "    #Input: Grayscale image A\n",
        "    #Output: Matrix u_x, u_y specifying the forward difference in x direction\n",
        "    # and  forward difference in y direction, respectively\n",
        "    \n",
        "    #forward difference in x direction\n",
        "    B=np.column_stack((A[:,1:],A[:,-1]))\n",
        "    u_x=B-A\n",
        "\n",
        "    #forward difference in y direction\n",
        "    C=np.row_stack((A[1:,:],A[-1,:]))\n",
        "    u_y=C-A\n",
        "    return u_x,u_y"
      ],
      "metadata": {
        "id": "_uZjQMapylZy"
      },
      "execution_count": 6,
      "outputs": []
    },
    {
      "cell_type": "code",
      "source": [
        "def Backwarddifference(A):\n",
        "    #It compute Backward difference matrix of an image\n",
        "    #Input: Grayscale image A\n",
        "    #Output: Matrix u_x, u_y specifying the forward difference in x direction\n",
        "    # and  Backward difference in y direction, respectively\n",
        "    \n",
        "    #Backward difference in x direction\n",
        "    B1=np.column_stack((A[:,0],A[:,:-1]))#repeating last column for bundary condition\n",
        "    u_x=A-B1\n",
        "    #Backward difference in y direction\n",
        "    C1=np.row_stack((A[0,:],A[:-1,:]))#repeating last column for bundary condition\n",
        "    u_y=A-C1\n",
        "    return u_x,u_y"
      ],
      "metadata": {
        "id": "Gs-JP2yqziDu"
      },
      "execution_count": 7,
      "outputs": []
    },
    {
      "cell_type": "code",
      "source": [
        "def Centralddifference(A):\n",
        "    #It compute cantral difference matrix of an image\n",
        "    #Input: Grayscale image A\n",
        "    #Output: Matrix u_x, u_y specifying the central difference in x direction\n",
        "    # and central difference in y direction, respectively\n",
        "    \n",
        "    #Central difference in x direction\n",
        "    B=np.column_stack((A[:,1:],A[:,-1]))\n",
        "    B1=np.column_stack((A[:,0],A[:,:-1]))\n",
        "    u_x=(B-B1)/2\n",
        "\n",
        "    #Central difference in y direction\n",
        "    C=np.row_stack((A[1:,:],A[-1,:]))\n",
        "    C1=np.row_stack((A[0,:],A[:-1,:]))\n",
        "    u_y=(C-C1)/2\n",
        "    return u_x,u_y"
      ],
      "metadata": {
        "id": "1PTTINr4zk-C"
      },
      "execution_count": 8,
      "outputs": []
    },
    {
      "cell_type": "code",
      "source": [
        "def secondderivative(A):\n",
        "    #It compute second cantral difference matrix of an image\n",
        "    #Input: Grayscale image A\n",
        "    #Output: Matrix u_xx, u_yy specifying the second order central difference in x direction\n",
        "    # and the second order central difference in y direction, respectively\n",
        "\n",
        "    #the second order central difference in x direction\n",
        "    B=np.column_stack((A[:,1:],A[:,-1]))\n",
        "    B1=np.column_stack((A[:,0],A[:,:-1]))\n",
        "    u_xx=(B-2*A+B1)\n",
        "\n",
        "    #the second order central difference in y direction\n",
        "    C=np.row_stack((A[1:,:],A[-1,:]))\n",
        "    C1=np.row_stack((A[0,:],A[:-1,:]))\n",
        "    u_yy=(C-2*A+C1)\n",
        "    return u_xx,u_yy"
      ],
      "metadata": {
        "id": "HCPAZZlOzojQ"
      },
      "execution_count": 9,
      "outputs": []
    },
    {
      "cell_type": "code",
      "source": [
        "def mixedpartialderivative(A):\n",
        "  # It computes diagonal derivative matrix of an image\n",
        "  #Input: Grayscale image A\n",
        "  #Output: Matrix u_xy specifying the diagnal deriarive\n",
        "  [m,n]=A.shape\n",
        "  if n==1 or m==1:\n",
        "    u_xy=np.zeros((m,n))\n",
        "  else:\n",
        "    P1=np.row_stack((A[1:,1:],A[-1,1:]))\n",
        "    Q1=np.column_stack((P1,P1[:,-1]))\n",
        "    P2=np.row_stack((A[0,:-1],A[:-1,:-1]))\n",
        "    Q2=np.column_stack((P2[:,0],P2))\n",
        "    P3=np.row_stack((A[1:,:-1],A[-1,:-1]))\n",
        "    Q3=np.column_stack((P3[:,0],P3))\n",
        "    P4=np.row_stack((A[0,1:],A[:-1,1:]))\n",
        "    Q4=np.column_stack((P4,P4[:,-1]))\n",
        "    u_xy=(Q1+Q2-Q3-Q4)/4\n",
        "  return u_xy"
      ],
      "metadata": {
        "id": "7HifEShBVW4A"
      },
      "execution_count": 10,
      "outputs": []
    },
    {
      "cell_type": "code",
      "source": [
        "def Reg(y):\n",
        "  #It computes regularization function and its derivative \n",
        "  #Input: 2D array:y\n",
        "  #Output: regularization :G and its derivative:derivative_of_G\n",
        "  a=0.01\n",
        "  u_x,u_y=Centralddifference(y)\n",
        "  A1=u_x**2+u_y**2\n",
        "  A2=np.sqrt((A1))\n",
        "  A3=np.sum(A2)\n",
        "  u_xx,u_yy=secondderivative(y)\n",
        "  u_xy=mixedpartialderivative(y)\n",
        "  C=np.multiply(u_x,u_y)\n",
        "  A1=np.multiply(u_xx ,u_y**2)-2*np.multiply(C,u_xy)+ np.multiply(u_yy ,u_x**2)\n",
        "  A2=a + (u_x**2 + u_y**2)**(3/2)\n",
        "  derivative_of_G=-np.divide(A1,A2)\n",
        "  return A3,derivative_of_G"
      ],
      "metadata": {
        "id": "9Yy7YKuehapv"
      },
      "execution_count": 11,
      "outputs": []
    },
    {
      "cell_type": "code",
      "source": [
        "def zeroaverage(y):\n",
        " #It gives us mean zero vector\n",
        "  #Input: y vecotr\n",
        "  #output:zero mean vector\n",
        "  y_average=y.mean()\n",
        "  y_new=y-y_average\n",
        "  return y_new"
      ],
      "metadata": {
        "id": "l5xl8BQpzwSd"
      },
      "execution_count": 12,
      "outputs": []
    },
    {
      "cell_type": "code",
      "source": [
        "def S1(x,H,y, epsilon1):\n",
        "   #It compute S1 in formula\n",
        "    #Input: Vector:X, Vector: y, epsilon1\n",
        "    #Output: scalar\n",
        "  R=(2*np.mean(x)*np.mean(H@y)+epsilon1)/(np.mean(x)**2+np.mean(H@y)**2+epsilon1)\n",
        "  return R"
      ],
      "metadata": {
        "id": "c8TvBWMz15ks"
      },
      "execution_count": 13,
      "outputs": []
    },
    {
      "cell_type": "code",
      "source": [
        "def S2(x,H,y, epsilon2):\n",
        "   #It compute S2 in formula\n",
        "    #Input: Vector : X, Vector y, epsilon2\n",
        "    #Output: scalar \n",
        "  R1=np.linalg.norm(zeroaverage(x)+zeroaverage(H@y),ord=2)**2-np.linalg.norm(zeroaverage(x), ord=2)**2-np.linalg.norm(zeroaverage(H@y),ord=2)**2+epsilon2\n",
        "  R2=np.linalg.norm(zeroaverage(x),ord=2)**2+np.linalg.norm(zeroaverage(H@y),ord=2)**2+epsilon2\n",
        "  R=R1/R2\n",
        "  return R"
      ],
      "metadata": {
        "id": "W2KGQNAIC-rG"
      },
      "execution_count": 14,
      "outputs": []
    },
    {
      "cell_type": "code",
      "source": [
        "def DerS1(x,H,y, epsilon1):\n",
        "   #It compute derivative of S1 in formula\n",
        "    #Input: Transformation matrix H, Start (point) Grayscale image x, Degraded Grayscale image z, epsilon1\n",
        "    #Output: vector\n",
        "  [n,m]=H.shape\n",
        "  R1=(2/n)*H.T@np.ones((1,int(n))).T*(np.mean(x)-np.mean(H@y)*S1(x,H,y,epsilon1))\n",
        "  R2=(np.mean(x)**2+np.mean(H@y)**2+epsilon1)\n",
        "  R=R1.reshape(-1)/R2\n",
        "  return R"
      ],
      "metadata": {
        "id": "U5CSXiPPsl-b"
      },
      "execution_count": 15,
      "outputs": []
    },
    {
      "cell_type": "code",
      "source": [
        "def DerS2(x,H,y,epsilon2):\n",
        "  #It compute derivative of S2 in formula\n",
        "    #Input: transformation matrix H, vector X, vector y, epsilon2\n",
        "    #Output: vector\n",
        "  [n,m]=H.shape\n",
        "  R1=zeroaverage(x)\n",
        "  R2=-S2(x,H,y,epsilon2)*(H@y)\n",
        "  R3=S2(x,H,y,epsilon2)*np.ones((n,1))*np.mean(H@y)\n",
        "  R4=R1+R2+R3.reshape(-1)\n",
        "  R5=np.ones((n,1))*np.mean(R4)\n",
        "  R6=2*H.T@R4\n",
        "  R7=-2*H.T@R5\n",
        "  R=R6+R7.reshape(-1)\n",
        "  R8=np.linalg.norm(zeroaverage(x),ord=2)**2+np.linalg.norm(zeroaverage(H@y),ord=2)**2+epsilon2\n",
        "  Ans=R/R8\n",
        "  return Ans"
      ],
      "metadata": {
        "id": "_jlj-vFgW5Mu"
      },
      "execution_count": 16,
      "outputs": []
    },
    {
      "cell_type": "code",
      "source": [
        "def funcssim(p,x,H,y,epsilon1,epsilon2):\n",
        "   #It compute ssim mean and its deivative\n",
        "    #Input: P:weight,H:transformation matrix; a list of Vector:X, Vecor:z, epsilon1:scalar, epsilon1:Scalar\n",
        "    #Output: scalar \n",
        "  sum1=0\n",
        "  for i in range(len(x)):\n",
        "    S_i=p[i]*S1(x[i],H,y,epsilon1)*S2(x[i],H,y,epsilon2)\n",
        "    sum1=sum1+S_i\n",
        "  sum1=len(x)-sum1\n",
        "  sum2=0\n",
        "  for j in range(len(x)):\n",
        "    S_j=p[j]*((DerS1(x[j],H,y,epsilon1)*S2(x[j],H,y,epsilon2)+DerS2(x[j],H,y,epsilon2)*S1(x[j],H,y,epsilon1)))\n",
        "    sum2=sum2+S_j\n",
        "  sum2=-sum2\n",
        "  return sum1,sum2"
      ],
      "metadata": {
        "id": "TC6hknN7htAg"
      },
      "execution_count": 17,
      "outputs": []
    },
    {
      "cell_type": "code",
      "source": [
        "\n",
        "def objective(p,x,H,y,epsilon1,epsilon2,Lambda):\n",
        "  X=[]\n",
        "  for j in range(len(x)):\n",
        "    a=x[j].reshape(-1)\n",
        "    X.append(a)\n",
        "  obj1,der_obj1=funcssim(p,X,H,y.reshape(-1),epsilon1,epsilon2)\n",
        "  obj2,der_obj2=Reg(y.reshape(m1,n1))\n",
        "  obj=obj1+Lambda*obj2\n",
        "  der_obj=der_obj1.reshape(-1)+Lambda*der_obj2.reshape(-1)\n",
        "  return obj"
      ],
      "metadata": {
        "id": "ChJq7yNYs-_t"
      },
      "execution_count": 18,
      "outputs": []
    },
    {
      "cell_type": "code",
      "source": [
        "\n",
        "def Der(p,x,H,y,epsilon1,epsilon2,Lambda):\n",
        "\n",
        "  [m,n]=x[0].shape\n",
        "  X=[]\n",
        "  for j in range(len(x)):\n",
        "    a=x[j].reshape(-1)\n",
        "    X.append(a)\n",
        "  obj1,der_obj1=funcssim(p,X,H,y.reshape(-1),epsilon1,epsilon2)\n",
        "  obj2,der_obj2=Reg(y.reshape(m1,n1))\n",
        "  obj=obj1+Lambda*obj2\n",
        "  der_obj=der_obj1.reshape(-1)+Lambda*der_obj2.reshape(-1)\n",
        "  return der_obj"
      ],
      "metadata": {
        "id": "hg0ztMwMH-lP"
      },
      "execution_count": 19,
      "outputs": []
    },
    {
      "cell_type": "code",
      "source": [
        "Func=lambda y:objective(p,x,H,y,epsilon1,epsilon2,Lambda)\n",
        "DerFunc=lambda y1:Der(p,x,H,y1,epsilon1,epsilon2,Lambda)"
      ],
      "metadata": {
        "id": "vD9WxFqwFRJK"
      },
      "execution_count": 20,
      "outputs": []
    },
    {
      "cell_type": "code",
      "source": [
        "#EXAMPLE1\n",
        "A=np.array([[0.1]])\n",
        "B=np.array([[0.4]])\n",
        "C=np.array([[0.1]])\n",
        "x=[A,B]\n",
        "[M12,M22]=A.shape\n",
        "N=M12*M22\n",
        "H=identity(N)\n",
        "epsilon1=0\n",
        "epsilon2=0.03\n",
        "p=[1,1]\n",
        "Lambda=0\n",
        "y=C\n",
        "global m1,n1\n",
        "[m1,n1]=y.shape\n",
        "T1= minimize(Func, C.reshape(-1), method='BFGS', jac=DerFunc)\n",
        "T2= minimize(Func, C.reshape(-1), method='CG', jac=DerFunc)\n",
        "T3=minimize(Func, C.reshape(-1), method='Powell')\n",
        "T4=minimize(Func, C.reshape(-1), method='Newton-CG', jac=DerFunc)\n",
        "T5=minimize(Func, C.reshape(-1), bounds=[(0,2)], method='L-BFGS-B', jac=DerFunc)\n",
        "T6= minimize(Func, C.reshape(-1), method='TNC', jac=DerFunc)\n",
        "T7= minimize(Func, C.reshape(-1), method='COBYLA')\n",
        "T8=minimize(Func, C.reshape(-1), bounds=[(0,1)], method='SLSQP', jac=DerFunc)\n",
        "T9=minimize(Func, C.reshape(-1), method='trust-constr')\n"
      ],
      "metadata": {
        "id": "SqKoW5Ath4Id"
      },
      "execution_count": 21,
      "outputs": []
    },
    {
      "cell_type": "code",
      "source": [
        "from scipy.optimize import minimize_scalar\n",
        "res = minimize_scalar(Func, method='bounded', bounds=(0, 1))\n",
        "res"
      ],
      "metadata": {
        "colab": {
          "base_uri": "https://localhost:8080/"
        },
        "id": "zFuCKunHBUyq",
        "outputId": "ccf5ca9b-feda-45b2-ca1b-9544d04fa4bf"
      },
      "execution_count": 22,
      "outputs": [
        {
          "output_type": "execute_result",
          "data": {
            "text/plain": [
              " message: Solution found.\n",
              " success: True\n",
              "  status: 0\n",
              "     fun: 0.40000000000125935\n",
              "       x: 0.19999952580508798\n",
              "     nit: 12\n",
              "    nfev: 12"
            ]
          },
          "metadata": {},
          "execution_count": 22
        }
      ]
    },
    {
      "cell_type": "code",
      "source": [
        "print('Result By starting C=0.05993848194 and BFGS method ')\n",
        "print(T1)\n",
        "print('------------------------------------')\n",
        "print('Result By starting   C=0.05993848194 and CG method ')\n",
        "print(T2)\n",
        "print('------------------------------------')\n",
        "print('Result By starting   C=0.05993848194 and Powell method ')\n",
        "print(T3)\n",
        "print('------------------------------------')\n",
        "print('Result By starting   C=0.05993848194 and Newton-CG method ')\n",
        "print(T4)\n",
        "print('------------------------------------')\n",
        "print('Result By starting   C=0.05993848194 and L-BFGS-B method ')\n",
        "print(T5)\n",
        "print('Result By starting   C=0.05993848194 and TNC method ')\n",
        "print(T6)\n",
        "print('------------------------------------')\n",
        "print('Result By starting   C=0.05993848194 and COBYLA method ')\n",
        "print(T7)\n",
        "print('------------------------------------')\n",
        "print('Result By starting   C=0.05993848194 and SLSQP method ')\n",
        "print(T8)\n",
        "print('------------------------------------')\n",
        "print('Result By starting   C=0.05993848194 and trust-constr method ')\n",
        "print(T9)\n",
        "print('------------------------------------')"
      ],
      "metadata": {
        "colab": {
          "base_uri": "https://localhost:8080/"
        },
        "id": "03EdAOW8h4VE",
        "outputId": "d742f45c-392c-4d3b-db8f-7f511fdb62ff"
      },
      "execution_count": 23,
      "outputs": [
        {
          "output_type": "stream",
          "name": "stdout",
          "text": [
            "Result By starting C=0.05993848194 and BFGS method \n",
            "  message: Optimization terminated successfully.\n",
            "  success: True\n",
            "   status: 0\n",
            "      fun: 0.3999999999999999\n",
            "        x: [ 2.000e-01]\n",
            "      nit: 7\n",
            "      jac: [-9.677e-09]\n",
            " hess_inv: [[ 8.934e-02]]\n",
            "     nfev: 9\n",
            "     njev: 9\n",
            "------------------------------------\n",
            "Result By starting   C=0.05993848194 and CG method \n",
            " message: Optimization terminated successfully.\n",
            " success: True\n",
            "  status: 0\n",
            "     fun: 0.40000000000041913\n",
            "       x: [ 2.000e-01]\n",
            "     nit: 1\n",
            "     jac: [ 3.064e-06]\n",
            "    nfev: 11\n",
            "    njev: 9\n",
            "------------------------------------\n",
            "Result By starting   C=0.05993848194 and Powell method \n",
            " message: Optimization terminated successfully.\n",
            " success: True\n",
            "  status: 0\n",
            "     fun: 0.3999999999999999\n",
            "       x: [ 2.000e-01]\n",
            "     nit: 2\n",
            "   direc: [[ 3.307e-04]]\n",
            "    nfev: 36\n",
            "------------------------------------\n",
            "Result By starting   C=0.05993848194 and Newton-CG method \n",
            " message: Optimization terminated successfully.\n",
            " success: True\n",
            "  status: 0\n",
            "     fun: 0.40000000000000013\n",
            "       x: [ 2.000e-01]\n",
            "     nit: 6\n",
            "     jac: [-2.095e-05]\n",
            "    nfev: 7\n",
            "    njev: 13\n",
            "    nhev: 0\n",
            "------------------------------------\n",
            "Result By starting   C=0.05993848194 and L-BFGS-B method \n",
            "  message: CONVERGENCE: NORM_OF_PROJECTED_GRADIENT_<=_PGTOL\n",
            "  success: True\n",
            "   status: 0\n",
            "      fun: 0.40000000000000835\n",
            "        x: [ 2.000e-01]\n",
            "      nit: 7\n",
            "      jac: [ 4.320e-07]\n",
            "     nfev: 10\n",
            "     njev: 10\n",
            " hess_inv: <1x1 LbfgsInvHessProduct with dtype=float64>\n",
            "Result By starting   C=0.05993848194 and TNC method \n",
            " message: Converged (|f_n-f_(n-1)| ~= 0)\n",
            " success: True\n",
            "  status: 1\n",
            "     fun: 0.3999999999999999\n",
            "       x: [ 2.000e-01]\n",
            "     nit: 5\n",
            "     jac: [-1.752e-12]\n",
            "    nfev: 13\n",
            "------------------------------------\n",
            "Result By starting   C=0.05993848194 and COBYLA method \n",
            " message: Optimization terminated successfully.\n",
            " success: True\n",
            "  status: 1\n",
            "     fun: 0.40000005868580013\n",
            "       x: [ 1.999e-01]\n",
            "    nfev: 23\n",
            "   maxcv: 0.0\n",
            "------------------------------------\n",
            "Result By starting   C=0.05993848194 and SLSQP method \n",
            " message: Optimization terminated successfully\n",
            " success: True\n",
            "  status: 0\n",
            "     fun: 0.40000012176000466\n",
            "       x: [ 1.999e-01]\n",
            "     nit: 7\n",
            "     jac: [-1.653e-03]\n",
            "    nfev: 9\n",
            "    njev: 7\n",
            "------------------------------------\n",
            "Result By starting   C=0.05993848194 and trust-constr method \n",
            "          message: `xtol` termination condition is satisfied.\n",
            "          success: True\n",
            "           status: 2\n",
            "              fun: 0.40000000000000036\n",
            "                x: [ 2.000e-01]\n",
            "              nit: 22\n",
            "             nfev: 30\n",
            "             njev: 15\n",
            "             nhev: 0\n",
            "         cg_niter: 21\n",
            "     cg_stop_cond: 1\n",
            "             grad: [-1.490e-08]\n",
            "  lagrangian_grad: [-1.490e-08]\n",
            "           constr: []\n",
            "              jac: []\n",
            "      constr_nfev: []\n",
            "      constr_njev: []\n",
            "      constr_nhev: []\n",
            "                v: []\n",
            "           method: equality_constrained_sqp\n",
            "       optimality: 1.4901161193847656e-08\n",
            " constr_violation: 0\n",
            "   execution_time: 0.12969207763671875\n",
            "        tr_radius: 3.1335881825208543e-09\n",
            "   constr_penalty: 1.0\n",
            "            niter: 22\n",
            "------------------------------------\n"
          ]
        }
      ]
    },
    {
      "cell_type": "code",
      "source": [
        "\n",
        "# Import our modules that we are using\n",
        "import matplotlib.pyplot as plt\n",
        "import numpy as np\n",
        "A=np.array([[0.1]])\n",
        "B=np.array([[0.4]])\n",
        "C=np.array([[0.2]])\n",
        "x=[A,B]\n",
        "[M12,M22]=A.shape\n",
        "N=M12*M22\n",
        "H=identity(N)\n",
        "epsilon1=0\n",
        "epsilon2=0.03\n",
        "p=[1,1]\n",
        "Lambda=0\n",
        "# Create the vectors X and Y\n",
        "xx=[]\n",
        "yy=[]\n",
        "for i in np.arange(0,1,0.01):\n",
        "  xxxx=np.array([[i]])\n",
        "  yyyy = S1(A,H,xxxx,epsilon1)+S1(B,H,xxxx,epsilon1)\n",
        "  xx.append(np.squeeze(xxxx))\n",
        "  yy.append(yyyy)\n",
        "# Create the plot\n",
        "\n",
        "plt.plot(xx,yy,'r')\n",
        "roots=[2.000e-01]\n",
        "maxvalue = S1(A,H,roots,epsilon1)+S1(B,H,roots,epsilon1)\n",
        "plt.scatter(roots, maxvalue,c='b')\n",
        "plt.xlabel(\"$\\mathbf{x}$\", fontsize=12)\n",
        "plt.ylabel(\"$f~(\\mathbf{x})$\", fontsize=12)\n",
        "#Show the plot\n",
        "plt.show()"
      ],
      "metadata": {
        "colab": {
          "base_uri": "https://localhost:8080/",
          "height": 453
        },
        "id": "nWtWY4aZjt8G",
        "outputId": "96634d4f-e9c4-426f-db30-46118994fd5f"
      },
      "execution_count": 24,
      "outputs": [
        {
          "output_type": "display_data",
          "data": {
            "text/plain": [
              "<Figure size 640x480 with 1 Axes>"
            ],
            "image/png": "[encoded data removed]"
          },
          "metadata": {}
        }
      ]
    },
    {
      "cell_type": "code",
      "source": [
        "#EXAMPLE2\n",
        "A=np.array([[0.05]])\n",
        "B=np.array([[0.8]])\n",
        "C=np.array([[0.8]])\n",
        "x=[A,B]\n",
        "[M12,M22]=A.shape\n",
        "N=M12*M22\n",
        "H=identity(N)\n",
        "epsilon1=0\n",
        "epsilon2=0.03\n",
        "p=[1,1]\n",
        "Lambda=0\n",
        "y=C\n",
        "global m1,n1\n",
        "[m1,n1]=y.shape\n",
        "T1= minimize(Func, C.reshape(-1), method='BFGS', jac=DerFunc)\n",
        "T2= minimize(Func, C.reshape(-1), method='CG', jac=DerFunc)\n",
        "T3=minimize(Func, C.reshape(-1), method='Powell')\n",
        "T4=minimize(Func, C.reshape(-1), method='Newton-CG', jac=DerFunc)\n",
        "T5=minimize(Func, C.reshape(-1), bounds=[(0,2)], method='L-BFGS-B', jac=DerFunc)\n",
        "T6= minimize(Func, C.reshape(-1), method='TNC', jac=DerFunc)\n",
        "T7= minimize(Func, C.reshape(-1), method='COBYLA')\n",
        "T8=minimize(Func, C.reshape(-1), bounds=[(0,1)], method='SLSQP', jac=DerFunc)\n",
        "T9=minimize(Func, C.reshape(-1), method='trust-constr')"
      ],
      "metadata": {
        "id": "TDvXS5bAIWtM"
      },
      "execution_count": 25,
      "outputs": []
    },
    {
      "cell_type": "code",
      "source": [
        "print('Result By starting C=0.05993848194 and BFGS method ')\n",
        "print(T1)\n",
        "print('------------------------------------')\n",
        "print('Result By starting   C=0.05993848194 and CG method ')\n",
        "print(T2)\n",
        "print('------------------------------------')\n",
        "print('Result By starting   C=0.05993848194 and Powell method ')\n",
        "print(T3)\n",
        "print('------------------------------------')\n",
        "print('Result By starting   C=0.05993848194 and Newton-CG method ')\n",
        "print(T4)\n",
        "print('------------------------------------')\n",
        "print('Result By starting   C=0.05993848194 and L-BFGS-B method ')\n",
        "print(T5)\n",
        "print('Result By starting   C=0.05993848194 and TNC method ')\n",
        "print(T6)\n",
        "print('------------------------------------')\n",
        "print('Result By starting   C=0.05993848194 and COBYLA method ')\n",
        "print(T7)\n",
        "print('------------------------------------')\n",
        "print('Result By starting   C=0.05993848194 and SLSQP method ')\n",
        "print(T8)\n",
        "print('------------------------------------')\n",
        "print('Result By starting   C=0.05993848194 and trust-constr method ')\n",
        "print(T9)\n",
        "print('------------------------------------')"
      ],
      "metadata": {
        "colab": {
          "base_uri": "https://localhost:8080/"
        },
        "id": "zZgc1Wc6IxU3",
        "outputId": "ba0c3c77-eaf0-42c7-e1a2-50d6653a4bd6"
      },
      "execution_count": 26,
      "outputs": [
        {
          "output_type": "stream",
          "name": "stdout",
          "text": [
            "Result By starting C=0.05993848194 and BFGS method \n",
            "  message: Optimization terminated successfully.\n",
            "  success: True\n",
            "   status: 0\n",
            "      fun: 0.8666666666934488\n",
            "        x: [ 6.922e-01]\n",
            "      nit: 4\n",
            "      jac: [-9.521e-06]\n",
            " hess_inv: [[ 5.980e-01]]\n",
            "     nfev: 5\n",
            "     njev: 5\n",
            "------------------------------------\n",
            "Result By starting   C=0.05993848194 and CG method \n",
            " message: Optimization terminated successfully.\n",
            " success: True\n",
            "  status: 0\n",
            "     fun: 0.8666666666666667\n",
            "       x: [ 6.922e-01]\n",
            "     nit: 3\n",
            "     jac: [ 6.002e-09]\n",
            "    nfev: 7\n",
            "    njev: 7\n",
            "------------------------------------\n",
            "Result By starting   C=0.05993848194 and Powell method \n",
            " message: Optimization terminated successfully.\n",
            " success: True\n",
            "  status: 0\n",
            "     fun: 0.8666666666667648\n",
            "       x: [ 6.922e-01]\n",
            "     nit: 2\n",
            "   direc: [[ 1.000e+00]]\n",
            "    nfev: 26\n",
            "------------------------------------\n",
            "Result By starting   C=0.05993848194 and Newton-CG method \n",
            " message: Optimization terminated successfully.\n",
            " success: True\n",
            "  status: 0\n",
            "     fun: 0.8666666666666669\n",
            "       x: [ 6.922e-01]\n",
            "     nit: 4\n",
            "     jac: [-1.203e-06]\n",
            "    nfev: 5\n",
            "    njev: 9\n",
            "    nhev: 0\n",
            "------------------------------------\n",
            "Result By starting   C=0.05993848194 and L-BFGS-B method \n",
            "  message: CONVERGENCE: NORM_OF_PROJECTED_GRADIENT_<=_PGTOL\n",
            "  success: True\n",
            "   status: 0\n",
            "      fun: 0.8666666666934488\n",
            "        x: [ 6.922e-01]\n",
            "      nit: 4\n",
            "      jac: [-9.521e-06]\n",
            "     nfev: 5\n",
            "     njev: 5\n",
            " hess_inv: <1x1 LbfgsInvHessProduct with dtype=float64>\n",
            "Result By starting   C=0.05993848194 and TNC method \n",
            " message: Local minimum reached (|pg| ~= 0)\n",
            " success: True\n",
            "  status: 0\n",
            "     fun: 0.8666666666666674\n",
            "       x: [ 6.922e-01]\n",
            "     nit: 3\n",
            "     jac: [-4.751e-08]\n",
            "    nfev: 9\n",
            "------------------------------------\n",
            "Result By starting   C=0.05993848194 and COBYLA method \n",
            " message: Optimization terminated successfully.\n",
            " success: True\n",
            "  status: 1\n",
            "     fun: 0.8666666714779545\n",
            "       x: [ 6.923e-01]\n",
            "    nfev: 22\n",
            "   maxcv: 0.0\n",
            "------------------------------------\n",
            "Result By starting   C=0.05993848194 and SLSQP method \n",
            " message: Optimization terminated successfully\n",
            " success: True\n",
            "  status: 0\n",
            "     fun: 0.8666668720738242\n",
            "       x: [ 6.927e-01]\n",
            "     nit: 4\n",
            "     jac: [ 8.334e-04]\n",
            "    nfev: 4\n",
            "    njev: 4\n",
            "------------------------------------\n",
            "Result By starting   C=0.05993848194 and trust-constr method \n",
            "          message: `xtol` termination condition is satisfied.\n",
            "          success: True\n",
            "           status: 2\n",
            "              fun: 0.8666666666666667\n",
            "                x: [ 6.922e-01]\n",
            "              nit: 15\n",
            "             nfev: 18\n",
            "             njev: 9\n",
            "             nhev: 0\n",
            "         cg_niter: 14\n",
            "     cg_stop_cond: 1\n",
            "             grad: [ 1.490e-08]\n",
            "  lagrangian_grad: [ 1.490e-08]\n",
            "           constr: []\n",
            "              jac: []\n",
            "      constr_nfev: []\n",
            "      constr_njev: []\n",
            "      constr_nhev: []\n",
            "                v: []\n",
            "           method: equality_constrained_sqp\n",
            "       optimality: 1.4901161193847656e-08\n",
            " constr_violation: 0\n",
            "   execution_time: 0.1307215690612793\n",
            "        tr_radius: 1.6458676065223825e-09\n",
            "   constr_penalty: 1.0\n",
            "            niter: 15\n",
            "------------------------------------\n"
          ]
        }
      ]
    },
    {
      "cell_type": "code",
      "source": [
        "A=np.array([[0.05]])\n",
        "B=np.array([[0.8]])\n",
        "C=np.array([[0.8]])\n",
        "x=[A,B]\n",
        "[M12,M22]=A.shape\n",
        "N=M12*M22\n",
        "H=identity(N)\n",
        "epsilon1=0\n",
        "epsilon2=0.03\n",
        "p=[1,1]\n",
        "Lambda=0\n",
        "# Create the vectors X and Y\n",
        "xx=[]\n",
        "yy=[]\n",
        "for i in np.arange(0,1,0.01):\n",
        "  xxxx=np.array([[i]])\n",
        "  yyyy = S1(A,H,xxxx,epsilon1)+S1(B,H,xxxx,epsilon1)\n",
        "  xx.append(np.squeeze(xxxx))\n",
        "  yy.append(yyyy)\n",
        "# Create the plot\n",
        "\n",
        "plt.plot(xx,yy,'r')\n",
        "roots=[0.057]\n",
        "maxvalue = S1(A,H,roots,epsilon1)+S1(B,H,roots,epsilon1)\n",
        "plt.scatter(roots, maxvalue,c='b')\n",
        "roots=[0.69]\n",
        "maxvalue = S1(A,H,roots,epsilon1)+S1(B,H,roots,epsilon1)\n",
        "plt.scatter(roots, maxvalue,c='g')\n",
        "plt.xlabel(\"$\\mathbf{x}$\", fontsize=12)\n",
        "plt.ylabel(\"$f~(\\mathbf{x})$\", fontsize=12)\n",
        "#Show the plot\n",
        "plt.show()"
      ],
      "metadata": {
        "colab": {
          "base_uri": "https://localhost:8080/",
          "height": 453
        },
        "id": "Wg5yasyGI5a_",
        "outputId": "d43f7b4a-77d1-4b2f-b62b-6bbabc79bf06"
      },
      "execution_count": 27,
      "outputs": [
        {
          "output_type": "display_data",
          "data": {
            "text/plain": [
              "<Figure size 640x480 with 1 Axes>"
            ],
            "image/png": "[encoded data removed]"
          },
          "metadata": {}
        }
      ]
    },
    {
      "cell_type": "code",
      "source": [],
      "metadata": {
        "id": "GBWzypJ-JKTM"
      },
      "execution_count": null,
      "outputs": []
    }
  ]
}